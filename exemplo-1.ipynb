{
 "cells": [
  {
   "cell_type": "markdown",
   "metadata": {},
   "source": [
    "# Introdução ao Python \n",
    "\n",
    "## O que é Python?\n",
    "\n",
    "Python é uma linguagem de programação de alto nível conhecida por sua simplicidade e legibilidade. Neste notebook, vamos explorar conceitos básicos de Python para iniciantes."
   ]
  },
  {
   "cell_type": "markdown",
   "metadata": {},
   "source": [
    "Exemplo classico:"
   ]
  },
  {
   "cell_type": "code",
   "execution_count": 1,
   "metadata": {},
   "outputs": [
    {
     "name": "stdout",
     "output_type": "stream",
     "text": [
      "Hello, World!\n"
     ]
    }
   ],
   "source": [
    "print(\"Hello, World!\")"
   ]
  },
  {
   "cell_type": "markdown",
   "metadata": {},
   "source": [
    "## Declarando Variáveis\n",
    "\n",
    "Em Python, você pode declarar uma variável e atribuir um valor a ela. Vamos ver alguns exemplos:"
   ]
  },
  {
   "cell_type": "code",
   "execution_count": 16,
   "metadata": {},
   "outputs": [
    {
     "name": "stdout",
     "output_type": "stream",
     "text": [
      "42\n",
      "João\n",
      "2500.5\n"
     ]
    }
   ],
   "source": [
    "# Declarando variáveis\n",
    "numero = 42\n",
    "nome = 'João'\n",
    "salario = 2500.50\n",
    "\n",
    "# Imprimindo as variáveis\n",
    "print(numero)\n",
    "print(nome)\n",
    "print(salario)"
   ]
  },
  {
   "cell_type": "markdown",
   "metadata": {},
   "source": [
    "## Manipulando Variáveis\n",
    "\n",
    "Você pode realizar operações matemáticas e concatenar strings com variáveis em Python."
   ]
  },
  {
   "cell_type": "code",
   "execution_count": 17,
   "metadata": {},
   "outputs": [
    {
     "name": "stdout",
     "output_type": "stream",
     "text": [
      "Soma: 30\n",
      "Concatenação: Olá Mundo!\n"
     ]
    }
   ],
   "source": [
    "# Operações com variáveis\n",
    "a = 10\n",
    "b = 20\n",
    "soma = a + b\n",
    "concatenacao = 'Olá' + ' ' + 'Mundo!'\n",
    "\n",
    "# Imprimindo os resultados\n",
    "print('Soma:', soma)\n",
    "print('Concatenação:', concatenacao)"
   ]
  },
  {
   "cell_type": "code",
   "execution_count": 18,
   "metadata": {},
   "outputs": [],
   "source": [
    "# Definindo uma string\n",
    "frase = 'Python é uma linguagem de programação poderosa'"
   ]
  },
  {
   "cell_type": "code",
   "execution_count": 19,
   "metadata": {},
   "outputs": [
    {
     "name": "stdout",
     "output_type": "stream",
     "text": [
      "Python é uma linguagem de programação poderosa\n"
     ]
    }
   ],
   "source": [
    "# Imprimindo a string\n",
    "print(frase)"
   ]
  },
  {
   "cell_type": "markdown",
   "metadata": {},
   "source": [
    "## Operações Básicas\n",
    "\n",
    "Vamos realizar algumas operações básicas com a string."
   ]
  },
  {
   "cell_type": "code",
   "execution_count": 20,
   "metadata": {},
   "outputs": [
    {
     "name": "stdout",
     "output_type": "stream",
     "text": [
      "Tamanho da string: 46\n"
     ]
    }
   ],
   "source": [
    "# Tamanho da string\n",
    "tamanho = len(frase)\n",
    "print('Tamanho da string:', tamanho)"
   ]
  },
  {
   "cell_type": "code",
   "execution_count": 21,
   "metadata": {},
   "outputs": [
    {
     "name": "stdout",
     "output_type": "stream",
     "text": [
      "Maiúsculas: PYTHON É UMA LINGUAGEM DE PROGRAMAÇÃO PODEROSA\n"
     ]
    }
   ],
   "source": [
    "# Transformando em maiúsculas\n",
    "maiusculas = frase.upper()\n",
    "print('Maiúsculas:', maiusculas)"
   ]
  },
  {
   "cell_type": "code",
   "execution_count": 22,
   "metadata": {},
   "outputs": [
    {
     "name": "stdout",
     "output_type": "stream",
     "text": [
      "Nova frase: C# é uma linguagem de programação poderosa\n"
     ]
    }
   ],
   "source": [
    "# Substituindo palavras na string\n",
    "nova_frase = frase.replace('Python', 'C#')\n",
    "print('Nova frase:', nova_frase)"
   ]
  },
  {
   "cell_type": "markdown",
   "metadata": {},
   "source": [
    "# Coleções"
   ]
  },
  {
   "cell_type": "markdown",
   "metadata": {},
   "source": [
    "## Listas"
   ]
  },
  {
   "cell_type": "markdown",
   "metadata": {},
   "source": [
    "<b>Listas</b> são coleções ordenadas e mutáveis de itens, elas são definidas usando colchetes"
   ]
  },
  {
   "cell_type": "code",
   "execution_count": 1,
   "metadata": {},
   "outputs": [
    {
     "name": "stdout",
     "output_type": "stream",
     "text": [
      "['maça', 'banana', 'cereja', 'laranja']\n"
     ]
    }
   ],
   "source": [
    "frutas = ['maça', 'banana', 'cereja']\n",
    "frutas.append('laranja')\n",
    "print(frutas)"
   ]
  },
  {
   "cell_type": "markdown",
   "metadata": {},
   "source": [
    "## Tuplas"
   ]
  },
  {
   "cell_type": "markdown",
   "metadata": {},
   "source": [
    "<b>Tuplas</b> são coleções ordenadas e imutáveis de itens:"
   ]
  },
  {
   "cell_type": "code",
   "execution_count": 3,
   "metadata": {},
   "outputs": [
    {
     "name": "stdout",
     "output_type": "stream",
     "text": [
      "2\n"
     ]
    }
   ],
   "source": [
    "numeros = (1, 2, 3)\n",
    "print(numeros[1])"
   ]
  },
  {
   "cell_type": "markdown",
   "metadata": {},
   "source": [
    "## Conjuntos"
   ]
  },
  {
   "cell_type": "markdown",
   "metadata": {},
   "source": [
    "<b>Conjuntos</b> são uma estrutura de dados que permite armazenar elementos únicos, sem repetição"
   ]
  },
  {
   "cell_type": "code",
   "execution_count": 4,
   "metadata": {},
   "outputs": [
    {
     "name": "stdout",
     "output_type": "stream",
     "text": [
      "{1, 2, 3, 4, 5}\n"
     ]
    }
   ],
   "source": [
    "conjunto = {1, 2, 3, 4, 5}\n",
    "print(conjunto)"
   ]
  },
  {
   "cell_type": "markdown",
   "metadata": {},
   "source": [
    "## Dicionários"
   ]
  },
  {
   "cell_type": "markdown",
   "metadata": {},
   "source": [
    "<b>Dicionários> são coleções de pares chaves-valor"
   ]
  },
  {
   "cell_type": "code",
   "execution_count": 5,
   "metadata": {},
   "outputs": [
    {
     "name": "stdout",
     "output_type": "stream",
     "text": [
      "João\n"
     ]
    }
   ],
   "source": [
    "aluno = {'nome': 'João', 'idade': 20, 'curso': 'Engenharia' }\n",
    "print(aluno['nome'])"
   ]
  },
  {
   "cell_type": "markdown",
   "metadata": {},
   "source": [
    "# Controle de Fluxo"
   ]
  },
  {
   "cell_type": "markdown",
   "metadata": {},
   "source": [
    "O <b>Python</b> possui várias estruturas de controle de fluxo que permitem a execução condicionao de código e a repetição de blocos de código"
   ]
  },
  {
   "cell_type": "markdown",
   "metadata": {},
   "source": [
    "## Condicionais (if, elif, else)"
   ]
  },
  {
   "cell_type": "code",
   "execution_count": 6,
   "metadata": {},
   "outputs": [
    {
     "name": "stdout",
     "output_type": "stream",
     "text": [
      "Você é maior de idade\n"
     ]
    }
   ],
   "source": [
    "idade = 18\n",
    "if idade <= 18:\n",
    "    print(\"Você é maior de idade\")\n",
    "else:\n",
    "    print(\"Você é maior de idade\")"
   ]
  },
  {
   "cell_type": "markdown",
   "metadata": {},
   "source": [
    "## Laços de repetição (for, while)"
   ]
  },
  {
   "cell_type": "code",
   "execution_count": 10,
   "metadata": {},
   "outputs": [
    {
     "name": "stdout",
     "output_type": "stream",
     "text": [
      "For: 0\n",
      "For: 1\n",
      "For: 2\n",
      "For: 3\n",
      "For: 4\n",
      "While: 0\n",
      "While: 1\n",
      "While: 2\n",
      "While: 3\n",
      "While: 4\n"
     ]
    }
   ],
   "source": [
    "for i in range(5):\n",
    "    print(f\"For: {i}\")\n",
    "    \n",
    "contagem = 0\n",
    "while contagem < 5:\n",
    "    print(f\"While: {contagem}\")\n",
    "    contagem += 1"
   ]
  },
  {
   "cell_type": "markdown",
   "metadata": {},
   "source": [
    "# Funções"
   ]
  },
  {
   "cell_type": "markdown",
   "metadata": {},
   "source": [
    "No Python, funções permitem a modularização e a reutilização de códigos. Elas são definidas usando a palavra-chave def."
   ]
  },
  {
   "cell_type": "markdown",
   "metadata": {},
   "source": [
    "<b>Definindo e Chamando</b> Funções"
   ]
  },
  {
   "cell_type": "code",
   "execution_count": null,
   "metadata": {},
   "outputs": [
    {
     "name": "stdout",
     "output_type": "stream",
     "text": [
      "Olá Agnes\n"
     ]
    }
   ],
   "source": [
    "def saudacao(nome):\n",
    "    return f\"Olá {nome}\"\n",
    "\n",
    "print(saudacao(\"Agnes\"))"
   ]
  },
  {
   "cell_type": "markdown",
   "metadata": {},
   "source": [
    "<b>Funções com Argumento padrão</b>"
   ]
  },
  {
   "cell_type": "code",
   "execution_count": null,
   "metadata": {},
   "outputs": [
    {
     "name": "stdout",
     "output_type": "stream",
     "text": [
      "Olá mundo\n",
      "Olá Ricardo\n"
     ]
    }
   ],
   "source": [
    "def saudacao(nome=\"Mundo\"):\n",
    "    return f\"Olá {nome}\"\n",
    "\n",
    "print(saudacao())\n",
    "print(saudacao(\"Ricardo\"))"
   ]
  },
  {
   "cell_type": "markdown",
   "metadata": {},
   "source": [
    "<b>Funções Lambda</b>"
   ]
  },
  {
   "cell_type": "code",
   "execution_count": 16,
   "metadata": {},
   "outputs": [
    {
     "name": "stdout",
     "output_type": "stream",
     "text": [
      "11\n"
     ]
    }
   ],
   "source": [
    "dobro = lambda x,y=0: (x * 2) + y\n",
    "print(dobro(5,1))"
   ]
  },
  {
   "cell_type": "markdown",
   "metadata": {},
   "source": [
    "# Manipulação de Arquivos"
   ]
  },
  {
   "cell_type": "markdown",
   "metadata": {},
   "source": [
    "O <b>Python</b> facilita a manipulação de arquivos, premitindo a leitura e a escrita de dados de maneira simples"
   ]
  },
  {
   "cell_type": "markdown",
   "metadata": {},
   "source": [
    "Escrevendo em Arquivos"
   ]
  },
  {
   "cell_type": "code",
   "execution_count": 36,
   "metadata": {},
   "outputs": [],
   "source": [
    "with open('arquivo.txt', 'a') as file:\n",
    "    file.write(\"Olá Mundo!\\n\")"
   ]
  },
  {
   "cell_type": "markdown",
   "metadata": {},
   "source": [
    "Lendo Arquivos"
   ]
  },
  {
   "cell_type": "code",
   "execution_count": 37,
   "metadata": {},
   "outputs": [
    {
     "name": "stdout",
     "output_type": "stream",
     "text": [
      "Olá Mundo!\n",
      "Olá Mundo!\n",
      "\n"
     ]
    }
   ],
   "source": [
    "with open('arquivo.txt', 'r') as file:\n",
    "    conteudo = file.read()\n",
    "    print(conteudo)"
   ]
  },
  {
   "cell_type": "markdown",
   "metadata": {},
   "source": [
    "# Módulos e Pacotes"
   ]
  },
  {
   "cell_type": "markdown",
   "metadata": {},
   "source": [
    "Importando módulos"
   ]
  },
  {
   "cell_type": "code",
   "execution_count": 38,
   "metadata": {},
   "outputs": [
    {
     "name": "stdout",
     "output_type": "stream",
     "text": [
      "4.0\n"
     ]
    }
   ],
   "source": [
    "import math\n",
    "print(math.sqrt(16))"
   ]
  },
  {
   "cell_type": "markdown",
   "metadata": {},
   "source": [
    "Criando e Utilizando Módulos"
   ]
  },
  {
   "cell_type": "code",
   "execution_count": 46,
   "metadata": {},
   "outputs": [
    {
     "ename": "ImportError",
     "evalue": "cannot import name 'soma' from 'pacotes' (/Volumes/Dev/Estudos/FIAP/IA/FIAP-IA-Python_Basics/pacotes.py)",
     "output_type": "error",
     "traceback": [
      "\u001b[0;31m---------------------------------------------------------------------------\u001b[0m",
      "\u001b[0;31mImportError\u001b[0m                               Traceback (most recent call last)",
      "Cell \u001b[0;32mIn[46], line 1\u001b[0m\n\u001b[0;32m----> 1\u001b[0m \u001b[38;5;28;01mfrom\u001b[39;00m\u001b[38;5;250m \u001b[39m\u001b[38;5;21;01mpacotes\u001b[39;00m\u001b[38;5;250m \u001b[39m\u001b[38;5;28;01mimport\u001b[39;00m soma\n\u001b[1;32m      2\u001b[0m \u001b[38;5;28mprint\u001b[39m(soma(\u001b[38;5;241m3\u001b[39m, \u001b[38;5;241m4\u001b[39m))  \u001b[38;5;66;03m# 7\u001b[39;00m\n",
      "\u001b[0;31mImportError\u001b[0m: cannot import name 'soma' from 'pacotes' (/Volumes/Dev/Estudos/FIAP/IA/FIAP-IA-Python_Basics/pacotes.py)"
     ]
    }
   ],
   "source": [
    "from pacotes import soma\n",
    "print(soma(3, 4))  # 7"
   ]
  },
  {
   "cell_type": "markdown",
   "metadata": {},
   "source": [
    "# Exceções"
   ]
  },
  {
   "cell_type": "markdown",
   "metadata": {},
   "source": [
    "O tratamento de exceçòes no Python permite que o programa lide com erros de maneira controlada"
   ]
  },
  {
   "cell_type": "code",
   "execution_count": 47,
   "metadata": {},
   "outputs": [
    {
     "name": "stdout",
     "output_type": "stream",
     "text": [
      "Error: divisão por zero\n"
     ]
    }
   ],
   "source": [
    "try:\n",
    "    resultado = 10 / 0\n",
    "except ZeroDivisionError:\n",
    "    print(\"Error: divisão por zero\")"
   ]
  },
  {
   "cell_type": "markdown",
   "metadata": {},
   "source": [
    "Lançando Exceções"
   ]
  },
  {
   "cell_type": "code",
   "execution_count": 48,
   "metadata": {},
   "outputs": [
    {
     "name": "stdout",
     "output_type": "stream",
     "text": [
      "O divisor não pode ser zero\n"
     ]
    }
   ],
   "source": [
    "def dividir (a, b):\n",
    "    if b == 0:\n",
    "        raise ValueError(\"O divisor não pode ser zero\")\n",
    "    return a / b\n",
    "\n",
    "\n",
    "try:\n",
    "    print(dividir(10, 0))\n",
    "except ValueError as e:\n",
    "    print(e)"
   ]
  },
  {
   "cell_type": "markdown",
   "metadata": {},
   "source": [
    "# Compreensão de Listas"
   ]
  },
  {
   "cell_type": "markdown",
   "metadata": {},
   "source": [
    "Compreensão de listas é uma maneira concisa de criar listas no Python.\n",
    "\n",
    "Exemplo de Compreensão de Listas\n",
    "\n",
    "Caso esse seja o seu primeiro contato com o list comprehension, ele nada mais é do que uma maneira de construir listas no Python de forma mais rápida, em uma linha de código"
   ]
  },
  {
   "cell_type": "code",
   "execution_count": 49,
   "metadata": {},
   "outputs": [
    {
     "name": "stdout",
     "output_type": "stream",
     "text": [
      "[0, 1, 4, 9, 16, 25, 36, 49, 64, 81]\n"
     ]
    }
   ],
   "source": [
    "quadrados = [x ** 2 for x in range(10)]\n",
    "print(quadrados)"
   ]
  },
  {
   "cell_type": "markdown",
   "metadata": {},
   "source": [
    "# Decoradores\n",
    "\n",
    "Decorados são uma ferramenta poderosa no Python para modificar o comportamento de funções ou métodos"
   ]
  },
  {
   "cell_type": "markdown",
   "metadata": {},
   "source": [
    "Exemplo de Decorador"
   ]
  },
  {
   "cell_type": "code",
   "execution_count": 53,
   "metadata": {},
   "outputs": [
    {
     "name": "stdout",
     "output_type": "stream",
     "text": [
      "Saudação!\n",
      "O que mais posso fazer aqui?\n",
      "Seu nome é Ricardo\n",
      "Olá Mundo\n"
     ]
    }
   ],
   "source": [
    "def decorador_saudacao(func):\n",
    "    def wrapper(*args, **kwargs):\n",
    "        print(\"Saudação!\")\n",
    "        print(\"O que mais posso fazer aqui?\")\n",
    "        entrada = input(\"Digite seu nome: \")\n",
    "        print(f\"Seu nome é {entrada}\")\n",
    "        return func(*args, **kwargs)\n",
    "    return wrapper\n",
    "\n",
    "@decorador_saudacao\n",
    "def ola(nome):\n",
    "    print(f\"Olá {nome}\")\n",
    "\n",
    "\n",
    "ola(\"Mundo\")"
   ]
  },
  {
   "cell_type": "markdown",
   "metadata": {},
   "source": [
    "# Context Managers\n",
    "\n",
    "Context managers permitem a alocação e a liberação de recursos de forma eficiente, utilizando a palavra-chave with"
   ]
  },
  {
   "cell_type": "code",
   "execution_count": 54,
   "metadata": {},
   "outputs": [
    {
     "name": "stdout",
     "output_type": "stream",
     "text": [
      "Entrando no Contexto\n",
      "Dentro do block With\n",
      "Saindo do contexto\n"
     ]
    }
   ],
   "source": [
    "class GerenciadorDeContexto:\n",
    "    def __enter__(self):\n",
    "        print(\"Entrando no Contexto\")\n",
    "        return self\n",
    "    \n",
    "    def __exit__(self, exc_type, exc_value, tracback):\n",
    "        print(\"Saindo do contexto\")\n",
    "        \n",
    "with GerenciadorDeContexto(): print(\"Dentro do block With\")        \n"
   ]
  }
 ],
 "metadata": {
  "kernelspec": {
   "display_name": "Python 3",
   "language": "python",
   "name": "python3"
  },
  "language_info": {
   "codemirror_mode": {
    "name": "ipython",
    "version": 3
   },
   "file_extension": ".py",
   "mimetype": "text/x-python",
   "name": "python",
   "nbconvert_exporter": "python",
   "pygments_lexer": "ipython3",
   "version": "3.10.18"
  }
 },
 "nbformat": 4,
 "nbformat_minor": 4
}
